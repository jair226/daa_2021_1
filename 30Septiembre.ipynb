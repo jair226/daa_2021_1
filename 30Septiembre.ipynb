{
  "nbformat": 4,
  "nbformat_minor": 0,
  "metadata": {
    "colab": {
      "name": "30Septiembre.ipynb",
      "provenance": [],
      "authorship_tag": "ABX9TyO4OzoTDB38SkPl9l1Gt3vF",
      "include_colab_link": true
    },
    "kernelspec": {
      "name": "python3",
      "display_name": "Python 3"
    }
  },
  "cells": [
    {
      "cell_type": "markdown",
      "metadata": {
        "id": "view-in-github",
        "colab_type": "text"
      },
      "source": [
        "<a href=\"https://colab.research.google.com/github/jair226/daa_2021_1/blob/master/30Septiembre.ipynb\" target=\"_parent\"><img src=\"https://colab.research.google.com/assets/colab-badge.svg\" alt=\"Open In Colab\"/></a>"
      ]
    },
    {
      "cell_type": "markdown",
      "metadata": {
        "id": "GfZiTV7TQIOe"
      },
      "source": [
        ""
      ]
    },
    {
      "cell_type": "markdown",
      "metadata": {
        "id": "25iPP0PUQKgv"
      },
      "source": [
        "# Palíndromos \n",
        "Es una palabra que se lee de igual forma de un sentido, y de sentido inverso.\n",
        "Ejemplo:\n",
        "1.Sugu\n",
        "2.reconocer\n",
        "3.oso\n",
        "1.10101\n",
        "1.10:01\n",
        "etc-\n",
        "\n",
        "### Planteamiento del problema\n",
        "Se desea encontrar todos los palíndromos que existen en la franja horaria de un día completo, tomando como horario inicial las 00:00 hrs, y como horario final las 23:59 hrs.\n",
        "El programa debe mostrar en pantalla todos los palíndromos existentes en ese rango, el final debe mostrar el conteo del total de palíndromos existentes.\n"
      ]
    },
    {
      "cell_type": "code",
      "metadata": {
        "id": "PZi0RfUyP-nW"
      },
      "source": [
        "def palindromo(n):\n",
        "  for horas in range(00, 23):\n",
        "    for minutos in range(0,60):\n",
        "      primero=str(horas)\n",
        "      segundo=str(minutos)\n",
        "\n",
        "    if (primero[::-1]==segundo):\n",
        "      print(primero + \":\" + segundo)\n",
        "      palindromo +=1\n",
        "\n",
        "      print(\"numero de palin \"+ str(palindromo))\n",
        "\n"
      ],
      "execution_count": 36,
      "outputs": []
    },
    {
      "cell_type": "code",
      "metadata": {
        "id": "ErVpQFDjVHVO"
      },
      "source": [
        ""
      ],
      "execution_count": null,
      "outputs": []
    }
  ]
}