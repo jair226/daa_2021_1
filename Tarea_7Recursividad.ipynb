{
  "nbformat": 4,
  "nbformat_minor": 0,
  "metadata": {
    "colab": {
      "name": "Tarea 7Recursividad.ipynb",
      "provenance": [],
      "authorship_tag": "ABX9TyMpakOfeRjxHnzDebrarP4n",
      "include_colab_link": true
    },
    "kernelspec": {
      "name": "python3",
      "display_name": "Python 3"
    }
  },
  "cells": [
    {
      "cell_type": "markdown",
      "metadata": {
        "id": "view-in-github",
        "colab_type": "text"
      },
      "source": [
        "<a href=\"https://colab.research.google.com/github/jair226/daa_2021_1/blob/master/Tarea_7Recursividad.ipynb\" target=\"_parent\"><img src=\"https://colab.research.google.com/assets/colab-badge.svg\" alt=\"Open In Colab\"/></a>"
      ]
    },
    {
      "cell_type": "code",
      "metadata": {
        "colab": {
          "base_uri": "https://localhost:8080/"
        },
        "id": "pSz3xQ-tMXxp",
        "outputId": "9056e4fd-a050-4474-889c-00a528ae5c3f"
      },
      "source": [
        "def suma(lista):\n",
        "   if len(lista) == 1:\n",
        "        return lista[0]\n",
        "   else:\n",
        "        return lista[0] + suma(lista[1:])\n",
        "\n",
        "print(suma([2,4,6,8,10,12]))"
      ],
      "execution_count": 10,
      "outputs": [
        {
          "output_type": "stream",
          "text": [
            "42\n"
          ],
          "name": "stdout"
        }
      ]
    },
    {
      "cell_type": "code",
      "metadata": {
        "colab": {
          "base_uri": "https://localhost:8080/"
        },
        "id": "Hl48komUM3rI",
        "outputId": "b1f7d3cb-adcf-43b5-b76b-9ad473d19ff3"
      },
      "source": [
        "def contador(numero):\n",
        "  if numero==0:\n",
        "    print(\"0\")\n",
        "  else:\n",
        "    print(numero)\n",
        "    numero=numero-1\n",
        "    return contador(numero)\n",
        "\n",
        "print(contador(4))"
      ],
      "execution_count": 11,
      "outputs": [
        {
          "output_type": "stream",
          "text": [
            "4\n",
            "3\n",
            "2\n",
            "1\n",
            "0\n",
            "None\n"
          ],
          "name": "stdout"
        }
      ]
    },
    {
      "cell_type": "code",
      "metadata": {
        "colab": {
          "base_uri": "https://localhost:8080/"
        },
        "id": "fF7owXr7NOO8",
        "outputId": "1903b8ac-8bc1-4447-e6e4-b047bcd1ba02"
      },
      "source": [
        "lista=[10,8,6,4,2,0]\n",
        "def mitad(lista_1):\n",
        "  contador=0\n",
        "  if(contador==0):\n",
        "    print(lista)\n",
        "    contador+=1\n",
        "  medio=len(lista_1)//2\n",
        "  print(\"Se elimina \"+str(lista_1[medio]))\n",
        "  lista_1.pop(medio)\n",
        "  medio=0\n",
        "  print(lista_1)\n",
        "  if (len(lista_1)>=3):\n",
        "    mitad(lista_1)\n",
        "\n",
        "mitad(lista)"
      ],
      "execution_count": 8,
      "outputs": [
        {
          "output_type": "stream",
          "text": [
            "[10, 8, 6, 4, 2, 0]\n",
            "Se elimina 4\n",
            "[10, 8, 6, 2, 0]\n",
            "[10, 8, 6, 2, 0]\n",
            "Se elimina 6\n",
            "[10, 8, 2, 0]\n",
            "[10, 8, 2, 0]\n",
            "Se elimina 2\n",
            "[10, 8, 0]\n",
            "[10, 8, 0]\n",
            "Se elimina 8\n",
            "[10, 0]\n"
          ],
          "name": "stdout"
        }
      ]
    }
  ]
}