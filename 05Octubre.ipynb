{
  "nbformat": 4,
  "nbformat_minor": 0,
  "metadata": {
    "colab": {
      "name": "05Octubre.ipynb",
      "provenance": [],
      "authorship_tag": "ABX9TyNnS9+75HfjzZ3JdDHh/NHw",
      "include_colab_link": true
    },
    "kernelspec": {
      "name": "python3",
      "display_name": "Python 3"
    }
  },
  "cells": [
    {
      "cell_type": "markdown",
      "metadata": {
        "id": "view-in-github",
        "colab_type": "text"
      },
      "source": [
        "<a href=\"https://colab.research.google.com/github/jair226/daa_2021_1/blob/master/05Octubre.ipynb\" target=\"_parent\"><img src=\"https://colab.research.google.com/assets/colab-badge.svg\" alt=\"Open In Colab\"/></a>"
      ]
    },
    {
      "cell_type": "markdown",
      "metadata": {
        "id": "26pUxVNXALjB"
      },
      "source": [
        "#Estructura de datos Pila (Stack)\n",
        "- Last Int First Out (LIFO)\n",
        "- De tipo lineal \n",
        "- Se pueden obtener e ingresar datos desde el topo\n",
        "- push para agregar\n",
        "- pop para sacar\n",
        "#Operaciones de las Pilas\n",
        "- is_empty (regresar true o false)\n",
        "- get_top (regresa el elemento en el tope sin sacarlo) \n",
        "- pop (saca el elemento del tope y lo regresa)\n",
        "- push (mete un elemento en el tope)\n",
        "- get_length (regresa el numero de elementos en la pila)"
      ]
    },
    {
      "cell_type": "code",
      "metadata": {
        "id": "pkBZFpHrCl6S"
      },
      "source": [
        "class Stack:\n",
        "  def __init__( self ):\n",
        "    self.__datos = []\n",
        "  \n",
        "  def is_empty( self ):\n",
        "    return len(self.__datos) == 0\n",
        "\n",
        "  def get_top( self ):\n",
        "    return self.__datos[-1]\n",
        "\n",
        "  def pop( self ):\n",
        "    return self.__datos.pop()\n",
        "\n",
        "  def push( self , valor ):\n",
        "    self.__datos.append(valor)\n",
        "\n",
        "  def get_length( self ):\n",
        "    return len(self.__datos)\n",
        "\n",
        "  def to_string( self ):\n",
        "    print(\"----------\")\n",
        "    for ele in self.__datos[-1::-1]:\n",
        "      print(f\" {ele} \")\n",
        "      print(\"----------\\n\")"
      ],
      "execution_count": 39,
      "outputs": []
    },
    {
      "cell_type": "code",
      "metadata": {
        "id": "mkYH8lzgGCEc",
        "outputId": "c9fbc7b8-6d13-4634-a982-f02ebd555dbe",
        "colab": {
          "base_uri": "https://localhost:8080/",
          "height": 1000
        }
      },
      "source": [
        "pila1 = Stack()\n",
        "pila1.push(10)\n",
        "pila1.push(20)\n",
        "pila1.push(1)\n",
        "pila1.push(393)\n",
        "pila1.push(103)\n",
        "pila1.to_string()\n",
        "\n",
        "sacado = pila1.pop()\n",
        "print(sacado)\n",
        "pila1.to_string\n",
        "\n",
        "pila1.push(444)\n",
        "pila1.push(233)\n",
        "pila1.to_string()\n",
        "\n",
        "print(f\"El elemento en el tope es: {pila1.get_top()}\")\n",
        "pila1.to_string()\n",
        "print(f\"La pila tine: {pila1.get_length()} elementos\")\n",
        "print(f\"¿La pila esta vacía?: {pila1.is_empty() } \")\n",
        "\n",
        "\n"
      ],
      "execution_count": 42,
      "outputs": [
        {
          "output_type": "stream",
          "text": [
            "----------\n",
            " 103 \n",
            "----------\n",
            "\n",
            " 393 \n",
            "----------\n",
            "\n",
            " 1 \n",
            "----------\n",
            "\n",
            " 20 \n",
            "----------\n",
            "\n",
            " 10 \n",
            "----------\n",
            "\n",
            "103\n",
            "----------\n",
            " 233 \n",
            "----------\n",
            "\n",
            " 444 \n",
            "----------\n",
            "\n",
            " 393 \n",
            "----------\n",
            "\n",
            " 1 \n",
            "----------\n",
            "\n",
            " 20 \n",
            "----------\n",
            "\n",
            " 10 \n",
            "----------\n",
            "\n",
            "El elemento en el tope es: 233\n",
            "----------\n",
            " 233 \n",
            "----------\n",
            "\n",
            " 444 \n",
            "----------\n",
            "\n",
            " 393 \n",
            "----------\n",
            "\n",
            " 1 \n",
            "----------\n",
            "\n",
            " 20 \n",
            "----------\n",
            "\n",
            " 10 \n",
            "----------\n",
            "\n",
            "La pila tine: 6 elementos\n",
            "¿La pila esta vacía?: False \n"
          ],
          "name": "stdout"
        }
      ]
    },
    {
      "cell_type": "markdown",
      "metadata": {
        "id": "xN3eYKGxRGtk"
      },
      "source": [
        "x=4+5+3+6+7 x=4+(5+3)+6+7\n",
        "\n",
        "reglas\n",
        "\n",
        "'('---> push('@')\n",
        "')'---> pop()\n",
        "\n",
        "Hacer un programa que valide el balanceo de '()' '[]' '{}' en programas del lenguaje c y java tomando en base el codigo de hoy"
      ]
    }
  ]
}