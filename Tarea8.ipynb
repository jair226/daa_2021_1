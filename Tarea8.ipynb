{
  "nbformat": 4,
  "nbformat_minor": 0,
  "metadata": {
    "colab": {
      "name": "Tarea8.ipynb",
      "provenance": [],
      "authorship_tag": "ABX9TyOdfQHA1QaJfwrpfDWAg8rc",
      "include_colab_link": true
    },
    "kernelspec": {
      "name": "python3",
      "display_name": "Python 3"
    }
  },
  "cells": [
    {
      "cell_type": "markdown",
      "metadata": {
        "id": "view-in-github",
        "colab_type": "text"
      },
      "source": [
        "<a href=\"https://colab.research.google.com/github/jair226/daa_2021_1/blob/master/Tarea8.ipynb\" target=\"_parent\"><img src=\"https://colab.research.google.com/assets/colab-badge.svg\" alt=\"Open In Colab\"/></a>"
      ]
    },
    {
      "cell_type": "code",
      "metadata": {
        "colab": {
          "base_uri": "https://localhost:8080/"
        },
        "id": "hDkzLjrhOKAw",
        "outputId": "250d0396-aee8-4786-fb54-d2d398b39dda"
      },
      "source": [
        "alumno1={'id':2, 'nombre':\"Juan\" , 'carrera':\"ICO\", 'promedio':7.67}\n",
        "alumno2={'id':4, 'nombre':\"Rocio\" , 'carrera':\"ICI\", 'promedio':8.67}\n",
        "alumno3={'id':5, 'nombre':\"Diego\" , 'carrera':\"DER\", 'promedio':8.98}\n",
        "alumno4={'id':7, 'nombre':\"May\" , 'carrera':\"ICI\", 'promedio':9.87}\n",
        "alumno5={'id':9, 'nombre':\"Rob\" , 'carrera':\"IME\", 'promedio':10.00}\n",
        "alumno6={'id':10, 'nombre':\"Santi\" , 'carrera':\"ICO\", 'promedio':5.37}\n",
        "alumno7={'id':14, 'nombre':\"Moy\" , 'carrera':\"IME\", 'promedio':6.85}\n",
        "alumno8={'id':16, 'nombre':\"Diana\" , 'carrera':\"DER\", 'promedio':9.99}\n",
        "alumno9={'id':19, 'nombre':\"Zoila\" , 'carrera':\"ICO\", 'promedio':8.22}\n",
        "alumno10={'id':22, 'nombre':\"Armando\" , 'carrera':\"ICO\", 'promedio':7.32}\n",
        "\n",
        "bd = []\n",
        "bd.append(alumno1)\n",
        "bd.append(alumno2)\n",
        "bd.append(alumno3)\n",
        "bd.append(alumno4)\n",
        "bd.append(alumno5)\n",
        "bd.append(alumno6)\n",
        "bd.append(alumno7)\n",
        "bd.append(alumno8)\n",
        "bd.append(alumno9)\n",
        "bd.append(alumno10)\n",
        "\n",
        "id = int(input(\"Proporciona Id del alumno que se quiere buscar: \"))\n",
        "\n",
        "def busqueda(id, lista, inicio, fin):\n",
        "    mitad = (inicio + fin) // 2\n",
        "    if inicio >= fin:\n",
        "        print(\"El id del alumno no es correcto y por lo tanto no existe\")\n",
        "    elif lista[mitad].get('id') == id:\n",
        "        return mitad\n",
        "    elif lista[mitad].get('id') < id:\n",
        "        return busqueda(id, lista, (mitad + 1), fin)\n",
        "    else:\n",
        "        return busqueda(id, lista, inicio, mitad)\n",
        "\n",
        "resultado = busqueda(id, bd, 0, len(bd))\n",
        "print(f\"{bd[resultado].get('nombre')} estudia la carrera de {bd[resultado].get('carrera')} y tiene un promedio de {bd[resultado].get('promedio')}\")"
      ],
      "execution_count": 4,
      "outputs": [
        {
          "output_type": "stream",
          "text": [
            "Proporciona Id del alumno que se quiere buscar: 16\n",
            "Diana estudia la carrera de DER y tiene un promedio de 9.99\n"
          ],
          "name": "stdout"
        }
      ]
    }
  ]
}