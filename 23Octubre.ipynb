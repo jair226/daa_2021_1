{
  "nbformat": 4,
  "nbformat_minor": 0,
  "metadata": {
    "colab": {
      "name": "23Octubre.ipynb",
      "provenance": [],
      "authorship_tag": "ABX9TyOroFvWeYS/6lNZ/QVsaGiK",
      "include_colab_link": true
    },
    "kernelspec": {
      "name": "python3",
      "display_name": "Python 3"
    }
  },
  "cells": [
    {
      "cell_type": "markdown",
      "metadata": {
        "id": "view-in-github",
        "colab_type": "text"
      },
      "source": [
        "<a href=\"https://colab.research.google.com/github/jair226/daa_2021_1/blob/master/23Octubre.ipynb\" target=\"_parent\"><img src=\"https://colab.research.google.com/assets/colab-badge.svg\" alt=\"Open In Colab\"/></a>"
      ]
    },
    {
      "cell_type": "code",
      "metadata": {
        "id": "i39UHnNJf_Rk"
      },
      "source": [
        "from time import time\n",
        "\n",
        "def ejemplo1( n ):\n",
        "    start_time = time()\n",
        "    c = n + 1\n",
        "    d = c * n\n",
        "    e = n * n\n",
        "    total = c + e - d\n",
        "    elapsed_time = time() - start_time\n",
        "    print(\"Tiempo transcurrido: %0.10f segundos\" % elapsed_time)\n",
        "    print(f\"total={ total }\")\n",
        "for entrada in range(100,1100,100):\n",
        "  ejemplo1( entrada )\n",
        "\n"
      ],
      "execution_count": null,
      "outputs": []
    },
    {
      "cell_type": "code",
      "metadata": {
        "id": "0An938ASgDGq"
      },
      "source": [
        "from time import time\n",
        "\n",
        "def ejemplo2( n ):\n",
        "    start_time = time()\n",
        "    contador = 0\n",
        "    for i in range( n ) :\n",
        "        for j in range( n ) :\n",
        "            contador += 1\n",
        "    elapsed_time = time() - start_time\n",
        "    print(\"Tiempo transcurrido: %0.10f segundos\" % elapsed_time)\n",
        "    return contador\n",
        "for entrada in range(100,1100,100):\n",
        "  ejemplo2( entrada )"
      ],
      "execution_count": null,
      "outputs": []
    },
    {
      "cell_type": "code",
      "metadata": {
        "id": "9J1pTWT-gIAe"
      },
      "source": [
        "from time import time\n",
        "\n",
        "def ejemplo3( n ): # n=4\n",
        "    start_time = time()\n",
        "    x = n * 2\n",
        "    y = 0   \n",
        "    for m in range( 100 ): \n",
        "        y = x - n   \n",
        "    elapsed_time = time() - start_time\n",
        "    print(\"Tiempo transcurrido: %0.10f segundos\" % elapsed_time)    \n",
        "    return y\n",
        "for entrada in range(100,1100,100):\n",
        "  ejemplo2( entrada )"
      ],
      "execution_count": null,
      "outputs": []
    },
    {
      "cell_type": "code",
      "metadata": {
        "id": "2z6nJUbLgJCD"
      },
      "source": [
        "from time import time\n",
        "\n",
        "def ejemplo4( n ):\n",
        "    x = 3 * 3.1416 + n\n",
        "    y = x + 3 * 3 - n\n",
        "    z = x + y\n",
        "    elapsed_time = time() - start_time\n",
        "    print(\"Tiempo transcurrido: %0.10f segundos\" % elapsed_time)\n",
        "    return z\n",
        "\n",
        "for entrada in range(100,1100,100):\n",
        "  ejemplo2( entrada )"
      ],
      "execution_count": null,
      "outputs": []
    },
    {
      "cell_type": "code",
      "metadata": {
        "id": "c3PReknzgLdS"
      },
      "source": [
        "from time import time\n",
        "\n",
        "def ejemplo5( x ):\n",
        "    start_time = time()\n",
        "    n = 10\n",
        "    for j in range( 0 , x , 1 ):\n",
        "        n = j + n\n",
        "    elapsed_time = time() - start_time\n",
        "    print(\"Tiempo transcurrido: %0.10f segundos\" % elapsed_time)\n",
        "    return n\n",
        "\n",
        "for entrada in range(100,1100,100):\n",
        "  ejemplo2( entrada )"
      ],
      "execution_count": null,
      "outputs": []
    },
    {
      "cell_type": "code",
      "metadata": {
        "id": "aXdvYpB6gyjj"
      },
      "source": [
        "from time import time\n",
        "\n",
        "def ejemplo6( n ):\n",
        "    start_time = time()\n",
        "    data=[[[1 for x in range(n)] for x in range(n)]\n",
        "          for x in range(n)]\n",
        "    suma = 0\n",
        "    for d in range(n):\n",
        "        for r in range(n):\n",
        "            for c in range(n):\n",
        "                suma += data[d][r][c]\n",
        "    elapsed_time = time() - start_time\n",
        "    print(\"Tiempo transcurrido: %0.10f segundos.\" % elapsed_time)\n",
        "    return suma\n",
        "for entrada in range(100, 1100,100):\n",
        "  ejemplo6( entrada )"
      ],
      "execution_count": null,
      "outputs": []
    },
    {
      "cell_type": "code",
      "metadata": {
        "id": "V9tPlJfAynHA"
      },
      "source": [
        "def ejemplo7( n ):\n",
        "    count = 0\n",
        "    for i in range( n ) :\n",
        "        for j in range( 25 ) :\n",
        "            for k in range( n ):\n",
        "                count += 1\n",
        "    return count\n",
        "    # 1+25n^2 "
      ],
      "execution_count": null,
      "outputs": []
    },
    {
      "cell_type": "code",
      "metadata": {
        "id": "oNYzbfXp1ROY"
      },
      "source": [
        "def ejemplo7_2( n ):\n",
        "    count = 0\n",
        "    for i in range( n ) :\n",
        "        for j in range( 25 ) :\n",
        "            for k in range( n ):\n",
        "                count += 1\n",
        "            for k in range( n ):\n",
        "                count += 1\n",
        "    return count \n",
        "    # 1 + 25n^2 +25n^2 = 1+50n^2"
      ],
      "execution_count": null,
      "outputs": []
    },
    {
      "cell_type": "code",
      "metadata": {
        "id": "4hiBYhH73kos"
      },
      "source": [
        "def ejemplo8( numeros ): # numeros es una lista (arreglo en c)\n",
        "    total = 0\n",
        "    for index in range(len(numeros)):\n",
        "        total = numeros[index]\n",
        "    return total\n",
        "ejemplo8(numeros)\n",
        "# 1 + n = 7"
      ],
      "execution_count": null,
      "outputs": []
    },
    {
      "cell_type": "code",
      "metadata": {
        "id": "_UA3ckP-4qUc"
      },
      "source": [
        "def ejemplo9(  n ):\n",
        "    contador = 0\n",
        "    basura = 0\n",
        "    for i in range( n ) :\n",
        "        contador += 1\n",
        "    for j in range( n ) :\n",
        "        contador += 1\n",
        "    basura = basura + contador\n",
        "    return contador\n",
        "\n",
        "\n",
        "print(ejemplo9( 5 ))"
      ],
      "execution_count": null,
      "outputs": []
    },
    {
      "cell_type": "code",
      "metadata": {
        "id": "DTplZZwr4sgF"
      },
      "source": [
        "def ejemplo10( n ):\n",
        "    count = 0\n",
        "    for i in range( n ) :\n",
        "        for j in range( i+1 ) :\n",
        "            count += 1\n",
        "    return count\n",
        "    #T(n)= "
      ],
      "execution_count": null,
      "outputs": []
    },
    {
      "cell_type": "code",
      "metadata": {
        "id": "f0-lAk3D9ZHY",
        "outputId": "fb66a0bd-b786-4457-a575-724988f1f43b",
        "colab": {
          "base_uri": "https://localhost:8080/",
          "height": 34
        }
      },
      "source": [
        "def ejemplo10( n ):\n",
        "  count = 0\n",
        "  for i in range( n ) :\n",
        "    for j in range( i+1 ) :\n",
        "      count += 1\n",
        "  return count\n",
        "\n",
        "print(ejemplo10(5))    "
      ],
      "execution_count": 3,
      "outputs": [
        {
          "output_type": "stream",
          "text": [
            "15\n"
          ],
          "name": "stdout"
        }
      ]
    }
  ]
}