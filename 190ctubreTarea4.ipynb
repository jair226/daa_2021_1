{
  "nbformat": 4,
  "nbformat_minor": 0,
  "metadata": {
    "colab": {
      "name": "Untitled2.ipynb",
      "provenance": [],
      "authorship_tag": "ABX9TyOyA3/LinBDh4ZRHd9tS7VE",
      "include_colab_link": true
    },
    "kernelspec": {
      "name": "python3",
      "display_name": "Python 3"
    }
  },
  "cells": [
    {
      "cell_type": "markdown",
      "metadata": {
        "id": "view-in-github",
        "colab_type": "text"
      },
      "source": [
        "<a href=\"https://colab.research.google.com/github/jair226/daa_2021_1/blob/master/190ctubreTarea4.ipynb\" target=\"_parent\"><img src=\"https://colab.research.google.com/assets/colab-badge.svg\" alt=\"Open In Colab\"/></a>"
      ]
    },
    {
      "cell_type": "code",
      "metadata": {
        "id": "2wDfxRrOf57J",
        "outputId": "7a920dd9-13bb-4b9f-9d31-6c5ebe0f65af",
        "colab": {
          "base_uri": "https://localhost:8080/",
          "height": 561
        }
      },
      "source": [
        "def ejemplo4(n):\n",
        "  print(\"Nivel 1\")\n",
        "  count = 0\n",
        "  i = n\n",
        "  while i >= 1:\n",
        "    print(\"Nivel 2\")\n",
        "    count += 1\n",
        "    i= i // 2\n",
        "  basura = 3+2\n",
        "  return count\n",
        "\n",
        "print(\"Comienzo\")\n",
        "numProcesos= ejemplo4(10)\n",
        "print(f\"Numero de procesos: {numProcesos}\")\n",
        "print(\" \")\n",
        "print(\"Comienzo\")\n",
        "numProcesos= ejemplo4(100)\n",
        "print(f\"Numero de procesos: {numProcesos}\")\n",
        "print(\" \")\n",
        "print(\"Comienzo\")\n",
        "numProcesos= ejemplo4(1000)\n",
        "print(f\"Numero de procesos: {numProcesos}\")"
      ],
      "execution_count": 20,
      "outputs": [
        {
          "output_type": "stream",
          "text": [
            "Comienzo\n",
            "Nivel 1\n",
            "Nivel 2\n",
            "Nivel 2\n",
            "Nivel 2\n",
            "Nivel 2\n",
            "Numero de procesos: 4\n",
            " \n",
            "Comienzo\n",
            "Nivel 1\n",
            "Nivel 2\n",
            "Nivel 2\n",
            "Nivel 2\n",
            "Nivel 2\n",
            "Nivel 2\n",
            "Nivel 2\n",
            "Nivel 2\n",
            "Numero de procesos: 7\n",
            " \n",
            "Comienzo\n",
            "Nivel 1\n",
            "Nivel 2\n",
            "Nivel 2\n",
            "Nivel 2\n",
            "Nivel 2\n",
            "Nivel 2\n",
            "Nivel 2\n",
            "Nivel 2\n",
            "Nivel 2\n",
            "Nivel 2\n",
            "Nivel 2\n",
            "Numero de procesos: 10\n"
          ],
          "name": "stdout"
        }
      ]
    },
    {
      "cell_type": "markdown",
      "metadata": {
        "id": "LiPvdLFZr3tS"
      },
      "source": [
        "![image.png](data:image/png;base64,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)"
      ]
    }
  ]
}