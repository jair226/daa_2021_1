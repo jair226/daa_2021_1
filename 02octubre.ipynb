{
  "nbformat": 4,
  "nbformat_minor": 0,
  "metadata": {
    "colab": {
      "name": "Untitled0.ipynb",
      "provenance": [],
      "authorship_tag": "ABX9TyOp0DERSk0685+Tu3B2+aum",
      "include_colab_link": true
    },
    "kernelspec": {
      "name": "python3",
      "display_name": "Python 3"
    }
  },
  "cells": [
    {
      "cell_type": "markdown",
      "metadata": {
        "id": "view-in-github",
        "colab_type": "text"
      },
      "source": [
        "<a href=\"https://colab.research.google.com/github/jair226/daa_2021_1/blob/master/02octubre.ipynb\" target=\"_parent\"><img src=\"https://colab.research.google.com/assets/colab-badge.svg\" alt=\"Open In Colab\"/></a>"
      ]
    },
    {
      "cell_type": "code",
      "metadata": {
        "id": "0PaqPPXXyhWz",
        "outputId": "93dd6e9f-200f-486b-976d-894523bffb31",
        "colab": {
          "base_uri": "https://localhost:8080/",
          "height": 316
        }
      },
      "source": [
        "import xlrd\n",
        "\n",
        "class Array3D:\n",
        "    def _init_(self,row,col,deep):\n",
        "        self.__x=row\n",
        "        self.__y=col\n",
        "        self.__z=deep\n",
        "        self._cubo=[[[None for x in range(self.x)] for y in range(self.y)] for z in range(self._z)]\n",
        "\n",
        "    def to_string(self):\n",
        "        print(self.__cubo)\n",
        "    def get_num_x(self):\n",
        "        return self.__x\n",
        "    def get_num_y(self):\n",
        "        return self.__y\n",
        "    def get_num_z(self):\n",
        "        return self.__z\n",
        "    def set_item(self,x,y,z,value):\n",
        "        self.__cubo[z][y][x]=value\n",
        "    def get_item(self,x,y,z):\n",
        "        return self.__cubo[z][y][x]\n",
        "    def clearing(self,value):\n",
        "        for i in range(self.__z):\n",
        "            for j in range(self.__y):\n",
        "                for k in range(self.__x):\n",
        "                    self.__cubo[i][j][k]=value\n",
        "def main():        \n",
        "    data = Array3D(35,14,34)\n",
        "    print(\"Espere un momento, se estan cargando los datos...\")\n",
        "    for anio in range(2017,2018,):\n",
        "        for x in range(35):\n",
        "            for y in range(14):\n",
        "              if anio == 2017:\n",
        "                Archivo = xldr.open_workbook(\"/content/Precio.xls\")\n",
        "                hoja=Archivo.sheet_by_index(0)\n",
        "                data.set_item(x,y,anio-2017,hoja.cell_value(x,y))\n",
        "              elif anio == 2018:\n",
        "                Archivo = xlrd.open_workbook(\"/content/Precip.xls\")\n",
        "                hoja=Archivo.sheet_by_index(1)\n",
        "                data.set_item(x,y,anio-2017,hoja.cell_value(x,y))\n",
        "        pass\n",
        "    Salida=False\n",
        "    regreso_al_menu_principal=False\n",
        "    regreso_al_menu=False\n",
        "    Anio=None\n",
        "    mes=None\n",
        "    estado=None\n",
        "    while Salida !=True:\n",
        "        anio=None\n",
        "        anio=int(input(\"Dijite el año del que quieres buscar la precipitacion(1985-2018) o digite 0 (cero) para salir del programa:\"))\n",
        "        if anio > 2017 and anio <= 2018:\n",
        "            while regreso_al_menu_principal!=True:\n",
        "                estado=None\n",
        "                print(\"Dijite el estado o el nacional del que quiere informacion (digite 0 si quieres regresar al menu principal):\")\n",
        "                for i in range(data.get_num_x()-2):\n",
        "                    print(f\"{i+1}) {data.get_item(i+2,0,anio-1985)}\")\n",
        "                    pass\n",
        "                estado=int(input(\"Opcion: \"))\n",
        "                if estado>=1 and estado<=33:\n",
        "                    while regreso_al_menu!=True:\n",
        "                        print(\"digite el mes o el total del que quiere saber saber la informacion(digite 0 si quieres regresar al menu anterior):\")\n",
        "                        for i in range(data.get_num_y()-1):\n",
        "                            print(f\"{i+1} {data.get_item(1,i+1,anio-1985)}\")\n",
        "                            pass\n",
        "                        mes=int(input(\"Opcion: \"))\n",
        "                        if mes>=1 and mes<=13:\n",
        "                            print(f\"La pricipitacion en el año {anio} del estado {data.get_item(estado+1,0,0)} del mes de {data.get_item(1,mes,0)} fue: {data.get_item(estado+1,mes,anio-1985)}\")\n",
        "                            print(\"regresando al menu principal\")\n",
        "                            regreso_al_menu=True\n",
        "                            regreso_al_menu_principal=True\n",
        "                            pass\n",
        "                        elif mes==0:\n",
        "                            regreso_al_menu=True\n",
        "                            pass\n",
        "                        else:\n",
        "                            print(\"opcion equivocada\")\n",
        "                            pass\n",
        "                        pass\n",
        "                    regreso_al_menu=False\n",
        "                    pass\n",
        "                elif estado==0:\n",
        "                    regreso_al_menu_principal=True\n",
        "                    pass\n",
        "                else:\n",
        "                    print(\"Estado incorrecto\")\n",
        "                    pass\n",
        "                pass\n",
        "            regreso_al_menu_principal=False\n",
        "            pass#fin primer if\n",
        "        \n",
        "        elif anio==0:\n",
        "            print(\"fin del Programa\")\n",
        "            Salida=True\n",
        "            pass\n",
        "        \n",
        "        else:\n",
        "            print(\"Año incorrecto\")\n",
        "            pass\n",
        "        \n",
        "        pass#fin while\n",
        "\n",
        "main()"
      ],
      "execution_count": 2,
      "outputs": [
        {
          "output_type": "error",
          "ename": "TypeError",
          "evalue": "ignored",
          "traceback": [
            "\u001b[0;31m---------------------------------------------------------------------------\u001b[0m",
            "\u001b[0;31mTypeError\u001b[0m                                 Traceback (most recent call last)",
            "\u001b[0;32m<ipython-input-2-720a44b5e87c>\u001b[0m in \u001b[0;36m<module>\u001b[0;34m()\u001b[0m\n\u001b[1;32m    102\u001b[0m         \u001b[0;32mpass\u001b[0m\u001b[0;31m#fin while\u001b[0m\u001b[0;34m\u001b[0m\u001b[0;34m\u001b[0m\u001b[0m\n\u001b[1;32m    103\u001b[0m \u001b[0;34m\u001b[0m\u001b[0m\n\u001b[0;32m--> 104\u001b[0;31m \u001b[0mmain\u001b[0m\u001b[0;34m(\u001b[0m\u001b[0;34m)\u001b[0m\u001b[0;34m\u001b[0m\u001b[0;34m\u001b[0m\u001b[0m\n\u001b[0m",
            "\u001b[0;32m<ipython-input-2-720a44b5e87c>\u001b[0m in \u001b[0;36mmain\u001b[0;34m()\u001b[0m\n\u001b[1;32m     26\u001b[0m                     \u001b[0mself\u001b[0m\u001b[0;34m.\u001b[0m\u001b[0m__cubo\u001b[0m\u001b[0;34m[\u001b[0m\u001b[0mi\u001b[0m\u001b[0;34m]\u001b[0m\u001b[0;34m[\u001b[0m\u001b[0mj\u001b[0m\u001b[0;34m]\u001b[0m\u001b[0;34m[\u001b[0m\u001b[0mk\u001b[0m\u001b[0;34m]\u001b[0m\u001b[0;34m=\u001b[0m\u001b[0mvalue\u001b[0m\u001b[0;34m\u001b[0m\u001b[0;34m\u001b[0m\u001b[0m\n\u001b[1;32m     27\u001b[0m \u001b[0;32mdef\u001b[0m \u001b[0mmain\u001b[0m\u001b[0;34m(\u001b[0m\u001b[0;34m)\u001b[0m\u001b[0;34m:\u001b[0m\u001b[0;34m\u001b[0m\u001b[0;34m\u001b[0m\u001b[0m\n\u001b[0;32m---> 28\u001b[0;31m     \u001b[0mdata\u001b[0m \u001b[0;34m=\u001b[0m \u001b[0mArray3D\u001b[0m\u001b[0;34m(\u001b[0m\u001b[0;36m35\u001b[0m\u001b[0;34m,\u001b[0m\u001b[0;36m14\u001b[0m\u001b[0;34m,\u001b[0m\u001b[0;36m34\u001b[0m\u001b[0;34m)\u001b[0m\u001b[0;34m\u001b[0m\u001b[0;34m\u001b[0m\u001b[0m\n\u001b[0m\u001b[1;32m     29\u001b[0m     \u001b[0mprint\u001b[0m\u001b[0;34m(\u001b[0m\u001b[0;34m\"Espere un momento, se estan cargando los datos...\"\u001b[0m\u001b[0;34m)\u001b[0m\u001b[0;34m\u001b[0m\u001b[0;34m\u001b[0m\u001b[0m\n\u001b[1;32m     30\u001b[0m     \u001b[0;32mfor\u001b[0m \u001b[0manio\u001b[0m \u001b[0;32min\u001b[0m \u001b[0mrange\u001b[0m\u001b[0;34m(\u001b[0m\u001b[0;36m2017\u001b[0m\u001b[0;34m,\u001b[0m\u001b[0;36m2018\u001b[0m\u001b[0;34m,\u001b[0m\u001b[0;34m)\u001b[0m\u001b[0;34m:\u001b[0m\u001b[0;34m\u001b[0m\u001b[0;34m\u001b[0m\u001b[0m\n",
            "\u001b[0;31mTypeError\u001b[0m: object() takes no parameters"
          ]
        }
      ]
    }
  ]
}