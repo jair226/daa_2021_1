{
  "nbformat": 4,
  "nbformat_minor": 0,
  "metadata": {
    "colab": {
      "name": "02Diciembre.ipynb",
      "provenance": [],
      "authorship_tag": "ABX9TyM2+dU3OU1SJrWeRBLQy3Lb",
      "include_colab_link": true
    },
    "kernelspec": {
      "name": "python3",
      "display_name": "Python 3"
    }
  },
  "cells": [
    {
      "cell_type": "markdown",
      "metadata": {
        "id": "view-in-github",
        "colab_type": "text"
      },
      "source": [
        "<a href=\"https://colab.research.google.com/github/jair226/daa_2021_1/blob/master/02Diciembre.ipynb\" target=\"_parent\"><img src=\"https://colab.research.google.com/assets/colab-badge.svg\" alt=\"Open In Colab\"/></a>"
      ]
    },
    {
      "cell_type": "code",
      "metadata": {
        "id": "-HQyYn60IaAm"
      },
      "source": [
        "def fnRecInfinita():\n",
        "  print(\"Hola\")\n",
        "  fnRecInfinita()"
      ],
      "execution_count": null,
      "outputs": []
    },
    {
      "cell_type": "code",
      "metadata": {
        "id": "Z4FIShq6IkNz"
      },
      "source": [
        "def fnRec(x):\n",
        "  if x==0:\n",
        "    print(\"stop\")\n",
        "  else :\n",
        "    print(x)\n",
        "    fnRec(x-1)\n",
        "    \n",
        "def main():\n",
        "  print(\"inicio del programa\")\n",
        "  fnRec(5)\n",
        "  print(\"Fin del programa\")\n",
        "main()"
      ],
      "execution_count": null,
      "outputs": []
    },
    {
      "cell_type": "code",
      "metadata": {
        "id": "Wmrdi2N_Io1s"
      },
      "source": [
        "def printRev(x):\n",
        "  if x>0:\n",
        "    \n",
        "    printRev(x-1)\n",
        "    print(x)\n",
        "\n",
        "\n",
        "printRev(3)"
      ],
      "execution_count": null,
      "outputs": []
    },
    {
      "cell_type": "code",
      "metadata": {
        "colab": {
          "base_uri": "https://localhost:8080/"
        },
        "id": "KyI7ClUHI9Mw",
        "outputId": "d8908538-2cf5-499c-dcba-095e96be2ccd"
      },
      "source": [
        "def fibonacci( n ):\n",
        "  if n == 0 or n == 1:\n",
        "    return n\n",
        "  else:\n",
        "    return( fibonacci(n - 1) + fibonacci (n - 2) )\n",
        "\n",
        "print (fibonacci(8))"
      ],
      "execution_count": 7,
      "outputs": [
        {
          "output_type": "stream",
          "text": [
            "21\n"
          ],
          "name": "stdout"
        }
      ]
    }
  ]
}