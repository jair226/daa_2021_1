{
  "nbformat": 4,
  "nbformat_minor": 0,
  "metadata": {
    "colab": {
      "name": "07octubre.ipynb",
      "provenance": [],
      "authorship_tag": "ABX9TyObgEt8LjgiDZRdOKWJ18Ld",
      "include_colab_link": true
    },
    "kernelspec": {
      "name": "python3",
      "display_name": "Python 3"
    }
  },
  "cells": [
    {
      "cell_type": "markdown",
      "metadata": {
        "id": "view-in-github",
        "colab_type": "text"
      },
      "source": [
        "<a href=\"https://colab.research.google.com/github/jair226/daa_2021_1/blob/master/07octubre.ipynb\" target=\"_parent\"><img src=\"https://colab.research.google.com/assets/colab-badge.svg\" alt=\"Open In Colab\"/></a>"
      ]
    },
    {
      "cell_type": "markdown",
      "metadata": {
        "id": "zwEoHEALWvZ3"
      },
      "source": [
        "# Busqueda Lineal\n",
        "dada un conjunto de datos no ordenados, la usqueda lineal consiste en recorrer el conjunto de datos desde el inicio al final, moviendose uno en uno hasta encontrar el elemento o llegar al final del conjunto\n",
        "\n",
        "datos = [4,18,47,2,34,14,78,12,48,21,31,19,1,3,5]\n",
        "\n",
        "#Busqueda Binaria\n",
        "\n",
        "Funciona sobre un conjunto de datos lineal ordenado.\n",
        "Consiste en dividir el conjunto en mitades y buscar en esa mitad, si el elemento buscado no esta en la mitad, preguntas si el elemento está a la derecha o a la izquierda.\n",
        "Haces la lista igual a la mitad correspondiente y repites el procso \n",
        "\n",
        "L = [1, 2, 3, 4, 5, 12, 14, 18, 19, 21, 31, 34, 47, 48, 78]\n",
        "\n",
        "DERECHA = longitud(L)\n",
        "IZQUIERDA = 0\n",
        "\n",
        "MID apuntara a la mitad del segmento de busqueda\n",
        "\n",
        "buscado: es el valor a buscar \n",
        "\n",
        "1. Hacer derecha = longitud( L ) -1\n",
        "2. Hacer izquierda = 0\n",
        "3. Si IZQUIEDA > DERECHA significa que hay un error en los datos\n",
        "4. Calcular MID = int((IZQUIERDA + DERECHA)/2) \n",
        "5. Mientras L[MID] != buscado hacer \n",
        "6.       - preguntar L[MID] > buscado\n",
        "              - hacer DERECHA = mid\n",
        "         - de lo contrario\n",
        "              - hacer IZQUIERDA = mid\n",
        "         - preguntar (DERECHA - IZQUIERDA) % 2\n",
        "              - MID = (IZQUIERDA +((DERECHA - IZQUIERDA)/2))+1\n",
        "         - de lo contrario \n",
        "              - MID = IZQUIERDA+((DERECHA-IZQUIERDA)/2)\n",
        "7. return MID "
      ]
    },
    {
      "cell_type": "code",
      "metadata": {
        "id": "hxkwO0AHW2zA",
        "outputId": "6060313b-d57d-4365-b48a-e46d1d65fa1f",
        "colab": {
          "base_uri": "https://localhost:8080/",
          "height": 340
        }
      },
      "source": [
        "\"\"\"\n",
        "Busqueda lineal.\n",
        "regresa la posicion del elemento 'buscado' si se encuentra en la lista\n",
        "regresa -1 si el elemento no existe dentro de la lista\n",
        "\"\"\"\n",
        "def busq_lineal(L,buscado):\n",
        "  indice=-1\n",
        "  contador=0\n",
        "  for idx in range(len(L)):\n",
        "    contador+=1\n",
        "    if L[idx]==buscado:\n",
        "      indice=idx\n",
        "      break\n",
        "  print(f\"numero de comparaciones realizadas= {contador}\")\n",
        "  return indice\n",
        "\"\"\"\n",
        "busqueda binaria\n",
        "\"\"\"\n",
        "def busqueda_binaria(L, buscado):\n",
        "  IZQUIERDA = 0\n",
        "  DERECHA = len(L)-1\n",
        "  MID = int((IZQUIERDA + DERECHA) / 2)\n",
        "  if len(L) % 2 == 0:\n",
        "    MID = (DERECHA // 2)+1\n",
        "  else:\n",
        "    MID = DERECHA // 2\n",
        "\n",
        "  while (L[MID] != buscado):\n",
        "    if L[MID] > buscado:\n",
        "      DERECHA = MID\n",
        "    else:\n",
        "      IZQUIERDA = MID\n",
        "    if (DERECHA - IZQUIERDA) % 2 == 0:\n",
        "      MID = (IZQUIERDA + ((DERECHA - IZQUIERDA)//2))+1\n",
        "    else:\n",
        "      MID = IZQUIERDA + ((DERECHA - IZQUIERDA)//2)\n",
        "  return MID\n",
        "\n",
        "\n",
        "def main():\n",
        "  datos=[4,18,47,2,34,14,78,12,48,21,31,19,1,3,5]\n",
        "  dato=int(input(\"¿Que valor quieres buscar?\"))\n",
        "  resultado= busq_lineal(datos,dato)\n",
        "  print(\"Resultado: \", resultado)\n",
        "  print(\"Busqueda lineal en una lista ordenada\")\n",
        "  datos.sort()\n",
        "  print(datos)\n",
        "  resultado= busq_lineal(datos,dato)\n",
        "  print(\"Resultado: \", resultado)\n",
        "\n",
        "  print(\"busqueda binaria\")\n",
        "  posicion = busqueda_binaria( datos, dato)\n",
        "  print(f\"El elemento {dato} esta en la posición {posicion} de la lista\")\n",
        "\n",
        "main()"
      ],
      "execution_count": 15,
      "outputs": [
        {
          "output_type": "error",
          "ename": "KeyboardInterrupt",
          "evalue": "ignored",
          "traceback": [
            "\u001b[0;31m---------------------------------------------------------------------------\u001b[0m",
            "\u001b[0;31mKeyboardInterrupt\u001b[0m                         Traceback (most recent call last)",
            "\u001b[0;32m<ipython-input-15-c61e23aba737>\u001b[0m in \u001b[0;36m<module>\u001b[0;34m()\u001b[0m\n\u001b[1;32m     53\u001b[0m   \u001b[0mprint\u001b[0m\u001b[0;34m(\u001b[0m\u001b[0;34mf\"El elemento {dato} esta en la posición {posicion} de la lista\"\u001b[0m\u001b[0;34m)\u001b[0m\u001b[0;34m\u001b[0m\u001b[0;34m\u001b[0m\u001b[0m\n\u001b[1;32m     54\u001b[0m \u001b[0;34m\u001b[0m\u001b[0m\n\u001b[0;32m---> 55\u001b[0;31m \u001b[0mmain\u001b[0m\u001b[0;34m(\u001b[0m\u001b[0;34m)\u001b[0m\u001b[0;34m\u001b[0m\u001b[0;34m\u001b[0m\u001b[0m\n\u001b[0m",
            "\u001b[0;32m<ipython-input-15-c61e23aba737>\u001b[0m in \u001b[0;36mmain\u001b[0;34m()\u001b[0m\n\u001b[1;32m     50\u001b[0m \u001b[0;34m\u001b[0m\u001b[0m\n\u001b[1;32m     51\u001b[0m   \u001b[0mprint\u001b[0m\u001b[0;34m(\u001b[0m\u001b[0;34m\"busqueda binaria\"\u001b[0m\u001b[0;34m)\u001b[0m\u001b[0;34m\u001b[0m\u001b[0;34m\u001b[0m\u001b[0m\n\u001b[0;32m---> 52\u001b[0;31m   \u001b[0mposicion\u001b[0m \u001b[0;34m=\u001b[0m \u001b[0mbusqueda_binaria\u001b[0m\u001b[0;34m(\u001b[0m \u001b[0mdatos\u001b[0m\u001b[0;34m,\u001b[0m \u001b[0mdato\u001b[0m\u001b[0;34m)\u001b[0m\u001b[0;34m\u001b[0m\u001b[0;34m\u001b[0m\u001b[0m\n\u001b[0m\u001b[1;32m     53\u001b[0m   \u001b[0mprint\u001b[0m\u001b[0;34m(\u001b[0m\u001b[0;34mf\"El elemento {dato} esta en la posición {posicion} de la lista\"\u001b[0m\u001b[0;34m)\u001b[0m\u001b[0;34m\u001b[0m\u001b[0;34m\u001b[0m\u001b[0m\n\u001b[1;32m     54\u001b[0m \u001b[0;34m\u001b[0m\u001b[0m\n",
            "\u001b[0;32m<ipython-input-15-c61e23aba737>\u001b[0m in \u001b[0;36mbusqueda_binaria\u001b[0;34m(L, buscado)\u001b[0m\n\u001b[1;32m     34\u001b[0m       \u001b[0mMID\u001b[0m \u001b[0;34m=\u001b[0m \u001b[0;34m(\u001b[0m\u001b[0mIZQUIERDA\u001b[0m \u001b[0;34m+\u001b[0m \u001b[0;34m(\u001b[0m\u001b[0;34m(\u001b[0m\u001b[0mDERECHA\u001b[0m \u001b[0;34m-\u001b[0m \u001b[0mIZQUIERDA\u001b[0m\u001b[0;34m)\u001b[0m\u001b[0;34m//\u001b[0m\u001b[0;36m2\u001b[0m\u001b[0;34m)\u001b[0m\u001b[0;34m)\u001b[0m\u001b[0;34m+\u001b[0m\u001b[0;36m1\u001b[0m\u001b[0;34m\u001b[0m\u001b[0;34m\u001b[0m\u001b[0m\n\u001b[1;32m     35\u001b[0m     \u001b[0;32melse\u001b[0m\u001b[0;34m:\u001b[0m\u001b[0;34m\u001b[0m\u001b[0;34m\u001b[0m\u001b[0m\n\u001b[0;32m---> 36\u001b[0;31m       \u001b[0mMID\u001b[0m \u001b[0;34m=\u001b[0m \u001b[0mIZQUIERDA\u001b[0m \u001b[0;34m+\u001b[0m \u001b[0;34m(\u001b[0m\u001b[0;34m(\u001b[0m\u001b[0mDERECHA\u001b[0m \u001b[0;34m-\u001b[0m \u001b[0mIZQUIERDA\u001b[0m\u001b[0;34m)\u001b[0m\u001b[0;34m//\u001b[0m\u001b[0;36m2\u001b[0m\u001b[0;34m)\u001b[0m \u001b[0;34m-\u001b[0m \u001b[0;36m1\u001b[0m\u001b[0;34m\u001b[0m\u001b[0;34m\u001b[0m\u001b[0m\n\u001b[0m\u001b[1;32m     37\u001b[0m   \u001b[0;32mreturn\u001b[0m \u001b[0mMID\u001b[0m\u001b[0;34m\u001b[0m\u001b[0;34m\u001b[0m\u001b[0m\n\u001b[1;32m     38\u001b[0m \u001b[0;34m\u001b[0m\u001b[0m\n",
            "\u001b[0;31mKeyboardInterrupt\u001b[0m: "
          ]
        }
      ]
    }
  ]
}