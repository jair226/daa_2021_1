{
  "nbformat": 4,
  "nbformat_minor": 0,
  "metadata": {
    "colab": {
      "name": "Tarea10",
      "provenance": [],
      "collapsed_sections": [],
      "authorship_tag": "ABX9TyOgoEDtmmZhgJK8vuL/VHQM",
      "include_colab_link": true
    },
    "kernelspec": {
      "name": "python3",
      "display_name": "Python 3"
    }
  },
  "cells": [
    {
      "cell_type": "markdown",
      "metadata": {
        "id": "view-in-github",
        "colab_type": "text"
      },
      "source": [
        "<a href=\"https://colab.research.google.com/github/jair226/daa_2021_1/blob/master/Tarea10.ipynb\" target=\"_parent\"><img src=\"https://colab.research.google.com/assets/colab-badge.svg\" alt=\"Open In Colab\"/></a>"
      ]
    },
    {
      "cell_type": "code",
      "metadata": {
        "id": "GMJAkv_mqf2B"
      },
      "source": [
        "class NodoArbol:\r\n",
        "  def __init__( self, value, left=None, rigth=None ):\r\n",
        "    self.data = value\r\n",
        "    self.left = left\r\n",
        "    self.right = rigth"
      ],
      "execution_count": null,
      "outputs": []
    },
    {
      "cell_type": "code",
      "metadata": {
        "colab": {
          "base_uri": "https://localhost:8080/"
        },
        "id": "eZM2gobG9BMP",
        "outputId": "14e1eea7-8f54-4c24-cdae-25a9fe3c1419"
      },
      "source": [
        "arbol2 = NodoArbol(\"Melissa\",NodoArbol(\"Arlenee\",NodoArbol(\"Salas\"),NodoArbol(\"Estrada\")),NodoArbol(\"Evelyn\",NodoArbol(\"Acevedo\",NodoArbol(\"Ordones\")),NodoArbol(\"Carlos\",NodoArbol(\"Medrano\"))))\r\n",
        "print(arbol2.right.right.left.data)"
      ],
      "execution_count": null,
      "outputs": [
        {
          "output_type": "stream",
          "text": [
            "Negro\n"
          ],
          "name": "stdout"
        }
      ]
    },
    {
      "cell_type": "code",
      "metadata": {
        "colab": {
          "base_uri": "https://localhost:8080/"
        },
        "id": "0cJqRFLSDTzc",
        "outputId": "94852368-87d4-42be-b3d3-0f8f0c08edcf"
      },
      "source": [
        "aux = arbol2\r\n",
        "while aux.left != None:\r\n",
        "  aux = aux.left\r\n",
        "\r\n",
        "print(aux.data)"
      ],
      "execution_count": null,
      "outputs": [
        {
          "output_type": "stream",
          "text": [
            "Salas\n"
          ],
          "name": "stdout"
        }
      ]
    }
  ]
}