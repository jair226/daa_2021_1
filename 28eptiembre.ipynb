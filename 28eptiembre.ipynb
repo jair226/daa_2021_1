{
  "nbformat": 4,
  "nbformat_minor": 0,
  "metadata": {
    "colab": {
      "name": "28eptiembre.ipynb",
      "provenance": [],
      "authorship_tag": "ABX9TyML7IWE8Z0FxhZNj6rV8u79",
      "include_colab_link": true
    },
    "kernelspec": {
      "name": "python3",
      "display_name": "Python 3"
    }
  },
  "cells": [
    {
      "cell_type": "markdown",
      "metadata": {
        "id": "view-in-github",
        "colab_type": "text"
      },
      "source": [
        "<a href=\"https://colab.research.google.com/github/jair226/daa_2021_1/blob/master/28eptiembre.ipynb\" target=\"_parent\"><img src=\"https://colab.research.google.com/assets/colab-badge.svg\" alt=\"Open In Colab\"/></a>"
      ]
    },
    {
      "cell_type": "markdown",
      "metadata": {
        "id": "eMfT20m-DY9z"
      },
      "source": [
        "sección 1"
      ]
    },
    {
      "cell_type": "markdown",
      "metadata": {
        "id": "IJXi9DI0DlgD"
      },
      "source": [
        "en este archivo aprenderemos a pogramar en phyton con la herramienta de google clab.research\n",
        "También aprenderemos a guardar nuestros cambios a nuestro repositorio de github.com"
      ]
    },
    {
      "cell_type": "markdown",
      "metadata": {
        "id": "ut2RNuLuDx7q"
      },
      "source": [
        "##código de ejemplo\n",
        "**negritas**\n",
        "`edad = 10\n",
        "print(edad[texto del enlace](https://))`"
      ]
    },
    {
      "cell_type": "code",
      "metadata": {
        "id": "W83N0t1lGiaJ",
        "outputId": "179838d5-309f-4dc1-d4c4-5d1965399ed5",
        "colab": {
          "base_uri": "https://localhost:8080/",
          "height": 34
        }
      },
      "source": [
        "frutas=[]\n",
        "frutas.append('manzana')\n",
        "frutas.append('piña')\n",
        "frutas.append('kiwi')\n",
        "print(frutas)"
      ],
      "execution_count": 2,
      "outputs": [
        {
          "output_type": "stream",
          "text": [
            "['manzana', 'piña', 'kiwi']\n"
          ],
          "name": "stdout"
        }
      ]
    },
    {
      "cell_type": "code",
      "metadata": {
        "id": "tWEH4k82HxmB"
      },
      "source": [
        "archivo = open('prueda_daa.txt', 'wt')\n",
        "archivo.write(\"Hola mundo jupyter\")\n",
        "archivo.close()"
      ],
      "execution_count": 3,
      "outputs": []
    }
  ]
}