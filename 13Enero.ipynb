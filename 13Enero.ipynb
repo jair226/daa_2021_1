{
  "nbformat": 4,
  "nbformat_minor": 0,
  "metadata": {
    "colab": {
      "name": "13Enero.ipynb",
      "provenance": [],
      "authorship_tag": "ABX9TyOIYwPhoina+NrmD9cbDYUb",
      "include_colab_link": true
    },
    "kernelspec": {
      "name": "python3",
      "display_name": "Python 3"
    }
  },
  "cells": [
    {
      "cell_type": "markdown",
      "metadata": {
        "id": "view-in-github",
        "colab_type": "text"
      },
      "source": [
        "<a href=\"https://colab.research.google.com/github/jair226/daa_2021_1/blob/master/13Enero.ipynb\" target=\"_parent\"><img src=\"https://colab.research.google.com/assets/colab-badge.svg\" alt=\"Open In Colab\"/></a>"
      ]
    },
    {
      "cell_type": "code",
      "metadata": {
        "id": "n8QiFp7YA-3Y"
      },
      "source": [
        "class NodoArbol:\r\n",
        "    def _init_( self , dato ,  hijo_izq=None , hijo_der=None):\r\n",
        "        self.dato = dato\r\n",
        "        self.left = hijo_izq\r\n",
        "        self.right = hijo_der"
      ],
      "execution_count": null,
      "outputs": []
    },
    {
      "cell_type": "code",
      "metadata": {
        "id": "pR8MqhrHeenn"
      },
      "source": [
        "class BinarySearchTree:\r\n",
        "  def _init_(self):\r\n",
        "    self.__root = None\r\n",
        "  \r\n",
        "  def insert (self , value):\r\n",
        "    if self.__root == None:\r\n",
        "        self.__root == NodoArbol(value,None,None)\r\n",
        "    else:\r\n",
        "        #preguntar si value es menor que root, de ser el caso\r\n",
        "        #insertar a la izquierda....Puede ser el caso que el sun arbol\r\n",
        "        #izquierco ya tenga muchos elementos...\r\n",
        "        self._insert_nodo(self._root,value)\r\n",
        "  \r\n",
        "\r\n",
        "  def _insert_nodo_(self,nodo,value):\r\n",
        "    if nodo.dato == value:\r\n",
        "        pass\r\n",
        "    elif value < nodo.data:#true va a la izq\r\n",
        "        if nodo.left == None:#si hay espacio a la izq ahi va\r\n",
        "          nodo.left = NodoArbol(value,None,None)#insertamos nodo\r\n",
        "\r\n",
        "        else:\r\n",
        "            self._insert_nodo_(nodo.left,value)#buscar  en sub arbol izq\r\n",
        "    else:\r\n",
        "      if nodo.right == None:\r\n",
        "        nodo.right = NodoArbol(value, None,None)\r\n",
        "      else:\r\n",
        "        self._insert_nodo_(nodo.right,value)#buscar  en sub arbol der"
      ],
      "execution_count": null,
      "outputs": []
    },
    {
      "cell_type": "code",
      "metadata": {
        "id": "tj6pfKvoei1h"
      },
      "source": [
        "bst=BinarySearchTree()\r\n",
        "bst.insert(50)\r\n",
        "bst.insert(30)\r\n",
        "bst.insert(20)\r\n",
        "#bst.search(50)#true o false"
      ],
      "execution_count": null,
      "outputs": []
    }
  ]
}