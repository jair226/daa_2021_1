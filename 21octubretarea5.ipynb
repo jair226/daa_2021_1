{
  "nbformat": 4,
  "nbformat_minor": 0,
  "metadata": {
    "colab": {
      "name": "Untitled3.ipynb",
      "provenance": [],
      "authorship_tag": "ABX9TyNOxgcDicOgiZEcIqxE+NT2",
      "include_colab_link": true
    },
    "kernelspec": {
      "name": "python3",
      "display_name": "Python 3"
    }
  },
  "cells": [
    {
      "cell_type": "markdown",
      "metadata": {
        "id": "view-in-github",
        "colab_type": "text"
      },
      "source": [
        "<a href=\"https://colab.research.google.com/github/jair226/daa_2021_1/blob/master/21octubretarea5.ipynb\" target=\"_parent\"><img src=\"https://colab.research.google.com/assets/colab-badge.svg\" alt=\"Open In Colab\"/></a>"
      ]
    },
    {
      "cell_type": "code",
      "metadata": {
        "id": "i39UHnNJf_Rk",
        "outputId": "1c015985-43ed-4f82-c437-49777c372bba",
        "colab": {
          "base_uri": "https://localhost:8080/",
          "height": 357
        }
      },
      "source": [
        "from time import time\n",
        "\n",
        "def ejemplo1( n ):\n",
        "    start_time = time()\n",
        "    c = n + 1\n",
        "    d = c * n\n",
        "    e = n * n\n",
        "    total = c + e - d\n",
        "    elapsed_time = time() - start_time\n",
        "    print(\"Tiempo transcurrido: %0.10f segundos\" % elapsed_time)\n",
        "    print(f\"total={ total }\")\n",
        "for entrada in range(100,1100,100):\n",
        "  ejemplo1( entrada )\n",
        "\n"
      ],
      "execution_count": 6,
      "outputs": [
        {
          "output_type": "stream",
          "text": [
            "Tiempo transcurrido: 0.0000011921 segundos\n",
            "total=1\n",
            "Tiempo transcurrido: 0.0000009537 segundos\n",
            "total=1\n",
            "Tiempo transcurrido: 0.0000009537 segundos\n",
            "total=1\n",
            "Tiempo transcurrido: 0.0000004768 segundos\n",
            "total=1\n",
            "Tiempo transcurrido: 0.0000004768 segundos\n",
            "total=1\n",
            "Tiempo transcurrido: 0.0000007153 segundos\n",
            "total=1\n",
            "Tiempo transcurrido: 0.0000004768 segundos\n",
            "total=1\n",
            "Tiempo transcurrido: 0.0000004768 segundos\n",
            "total=1\n",
            "Tiempo transcurrido: 0.0000004768 segundos\n",
            "total=1\n",
            "Tiempo transcurrido: 0.0000004768 segundos\n",
            "total=1\n"
          ],
          "name": "stdout"
        }
      ]
    },
    {
      "cell_type": "code",
      "metadata": {
        "id": "0An938ASgDGq",
        "outputId": "7581caf4-7b2a-496a-c477-092008baf79d",
        "colab": {
          "base_uri": "https://localhost:8080/",
          "height": 187
        }
      },
      "source": [
        "from time import time\n",
        "\n",
        "def ejemplo2( n ):\n",
        "    start_time = time()\n",
        "    contador = 0\n",
        "    for i in range( n ) :\n",
        "        for j in range( n ) :\n",
        "            contador += 1\n",
        "    elapsed_time = time() - start_time\n",
        "    print(\"Tiempo transcurrido: %0.10f segundos\" % elapsed_time)\n",
        "    return contador\n",
        "for entrada in range(100,1100,100):\n",
        "  ejemplo2( entrada )"
      ],
      "execution_count": 7,
      "outputs": [
        {
          "output_type": "stream",
          "text": [
            "Tiempo transcurrido: 0.0007052422 segundos\n",
            "Tiempo transcurrido: 0.0017867088 segundos\n",
            "Tiempo transcurrido: 0.0040969849 segundos\n",
            "Tiempo transcurrido: 0.0076143742 segundos\n",
            "Tiempo transcurrido: 0.0155875683 segundos\n",
            "Tiempo transcurrido: 0.0228788853 segundos\n",
            "Tiempo transcurrido: 0.0282809734 segundos\n",
            "Tiempo transcurrido: 0.0337195396 segundos\n",
            "Tiempo transcurrido: 0.0420048237 segundos\n",
            "Tiempo transcurrido: 0.0518481731 segundos\n"
          ],
          "name": "stdout"
        }
      ]
    },
    {
      "cell_type": "code",
      "metadata": {
        "id": "9J1pTWT-gIAe",
        "outputId": "6e78947a-9d43-4d0a-b538-053e3c064b00",
        "colab": {
          "base_uri": "https://localhost:8080/",
          "height": 187
        }
      },
      "source": [
        "from time import time\n",
        "\n",
        "def ejemplo3( n ): # n=4\n",
        "    start_time = time()\n",
        "    x = n * 2\n",
        "    y = 0   \n",
        "    for m in range( 100 ): \n",
        "        y = x - n   \n",
        "    elapsed_time = time() - start_time\n",
        "    print(\"Tiempo transcurrido: %0.10f segundos\" % elapsed_time)    \n",
        "    return y\n",
        "for entrada in range(100,1100,100):\n",
        "  ejemplo2( entrada )"
      ],
      "execution_count": 8,
      "outputs": [
        {
          "output_type": "stream",
          "text": [
            "Tiempo transcurrido: 0.0007424355 segundos\n",
            "Tiempo transcurrido: 0.0079679489 segundos\n",
            "Tiempo transcurrido: 0.0087559223 segundos\n",
            "Tiempo transcurrido: 0.0080206394 segundos\n",
            "Tiempo transcurrido: 0.0127274990 segundos\n",
            "Tiempo transcurrido: 0.0215630531 segundos\n",
            "Tiempo transcurrido: 0.0282070637 segundos\n",
            "Tiempo transcurrido: 0.0332713127 segundos\n",
            "Tiempo transcurrido: 0.0419850349 segundos\n",
            "Tiempo transcurrido: 0.0540251732 segundos\n"
          ],
          "name": "stdout"
        }
      ]
    },
    {
      "cell_type": "code",
      "metadata": {
        "id": "2z6nJUbLgJCD",
        "outputId": "f3921446-8421-44d3-c45d-9b33cddd7c92",
        "colab": {
          "base_uri": "https://localhost:8080/",
          "height": 187
        }
      },
      "source": [
        "from time import time\n",
        "\n",
        "def ejemplo4( n ):\n",
        "    x = 3 * 3.1416 + n\n",
        "    y = x + 3 * 3 - n\n",
        "    z = x + y\n",
        "    elapsed_time = time() - start_time\n",
        "    print(\"Tiempo transcurrido: %0.10f segundos\" % elapsed_time)\n",
        "    return z\n",
        "\n",
        "for entrada in range(100,1100,100):\n",
        "  ejemplo2( entrada )"
      ],
      "execution_count": 9,
      "outputs": [
        {
          "output_type": "stream",
          "text": [
            "Tiempo transcurrido: 0.0004875660 segundos\n",
            "Tiempo transcurrido: 0.0018446445 segundos\n",
            "Tiempo transcurrido: 0.0050380230 segundos\n",
            "Tiempo transcurrido: 0.0081174374 segundos\n",
            "Tiempo transcurrido: 0.0185358524 segundos\n",
            "Tiempo transcurrido: 0.0224893093 segundos\n",
            "Tiempo transcurrido: 0.0259511471 segundos\n",
            "Tiempo transcurrido: 0.0334463120 segundos\n",
            "Tiempo transcurrido: 0.0419955254 segundos\n",
            "Tiempo transcurrido: 0.0523388386 segundos\n"
          ],
          "name": "stdout"
        }
      ]
    },
    {
      "cell_type": "code",
      "metadata": {
        "id": "c3PReknzgLdS",
        "outputId": "6e00494d-98bd-4f37-a281-744d80e7fbdd",
        "colab": {
          "base_uri": "https://localhost:8080/",
          "height": 187
        }
      },
      "source": [
        "from time import time\n",
        "\n",
        "def ejemplo5( x ):\n",
        "    start_time = time()\n",
        "    n = 10\n",
        "    for j in range( 0 , x , 1 ):\n",
        "        n = j + n\n",
        "    elapsed_time = time() - start_time\n",
        "    print(\"Tiempo transcurrido: %0.10f segundos\" % elapsed_time)\n",
        "    return n\n",
        "\n",
        "for entrada in range(100,1100,100):\n",
        "  ejemplo2( entrada )"
      ],
      "execution_count": 12,
      "outputs": [
        {
          "output_type": "stream",
          "text": [
            "Tiempo transcurrido: 0.0006370544 segundos\n",
            "Tiempo transcurrido: 0.0023493767 segundos\n",
            "Tiempo transcurrido: 0.0065751076 segundos\n",
            "Tiempo transcurrido: 0.0078814030 segundos\n",
            "Tiempo transcurrido: 0.0126326084 segundos\n",
            "Tiempo transcurrido: 0.0182149410 segundos\n",
            "Tiempo transcurrido: 0.0250289440 segundos\n",
            "Tiempo transcurrido: 0.0337858200 segundos\n",
            "Tiempo transcurrido: 0.0446958542 segundos\n",
            "Tiempo transcurrido: 0.0563108921 segundos\n"
          ],
          "name": "stdout"
        }
      ]
    },
    {
      "cell_type": "code",
      "metadata": {
        "id": "aXdvYpB6gyjj",
        "outputId": "155f593a-592e-4e1b-eb37-d556377e1e4d",
        "colab": {
          "base_uri": "https://localhost:8080/",
          "height": 187
        }
      },
      "source": [
        "from time import time\n",
        "\n",
        "def ejemplo6( n ):\n",
        "    start_time = time()\n",
        "    data=[[[1 for x in range(n)] for x in range(n)]\n",
        "          for x in range(n)]\n",
        "    suma = 0\n",
        "    for d in range(n):\n",
        "        for r in range(n):\n",
        "            for c in range(n):\n",
        "                suma += data[d][r][c]\n",
        "    elapsed_time = time() - start_time\n",
        "    print(\"Tiempo transcurrido: %0.10f segundos.\" % elapsed_time)\n",
        "    return suma\n",
        "for entrada in range(100, 1100,100):\n",
        "  ejemplo6( entrada )"
      ],
      "execution_count": 13,
      "outputs": [
        {
          "output_type": "stream",
          "text": [
            "Tiempo transcurrido: 2.5064585209 segundos.\n",
            "Tiempo transcurrido: 0.9975707531 segundos.\n",
            "Tiempo transcurrido: 3.5825846195 segundos.\n",
            "Tiempo transcurrido: 9.2225348949 segundos.\n",
            "Tiempo transcurrido: 17.4510078430 segundos.\n",
            "Tiempo transcurrido: 36.4199283123 segundos.\n",
            "Tiempo transcurrido: 52.5771517754 segundos.\n",
            "Tiempo transcurrido: 78.4030816555 segundos.\n",
            "Tiempo transcurrido: 111.0390229225 segundos.\n",
            "Tiempo transcurrido: 152.7735922337 segundos.\n"
          ],
          "name": "stdout"
        }
      ]
    }
  ]
}